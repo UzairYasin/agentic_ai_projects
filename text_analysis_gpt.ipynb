{
  "nbformat": 4,
  "nbformat_minor": 0,
  "metadata": {
    "colab": {
      "provenance": [],
      "authorship_tag": "ABX9TyOiORyMMbQhlpH3+9Mu97E1",
      "include_colab_link": true
    },
    "kernelspec": {
      "name": "python3",
      "display_name": "Python 3"
    },
    "language_info": {
      "name": "python"
    }
  },
  "cells": [
    {
      "cell_type": "markdown",
      "metadata": {
        "id": "view-in-github",
        "colab_type": "text"
      },
      "source": [
        "<a href=\"https://colab.research.google.com/github/UzairYasin/agentic_ai_projects/blob/main/text_analysis_gpt.ipynb\" target=\"_parent\"><img src=\"https://colab.research.google.com/assets/colab-badge.svg\" alt=\"Open In Colab\"/></a>"
      ]
    },
    {
      "cell_type": "code",
      "source": [
        "!pip install --quiet langchain langchain-google-genai"
      ],
      "metadata": {
        "colab": {
          "base_uri": "https://localhost:8080/"
        },
        "id": "0FMbZuuRGUuY",
        "outputId": "8637eb18-3ccc-4ccc-896e-a06d177bdf8b"
      },
      "execution_count": 2,
      "outputs": [
        {
          "output_type": "stream",
          "name": "stdout",
          "text": [
            "\u001b[?25l   \u001b[90m━━━━━━━━━━━━━━━━━━━━━━━━━━━━━━━━━━━━━━━━\u001b[0m \u001b[32m0.0/41.3 kB\u001b[0m \u001b[31m?\u001b[0m eta \u001b[36m-:--:--\u001b[0m\r\u001b[2K   \u001b[90m━━━━━━━━━━━━━━━━━━━━━━━━━━━━━━━━━━━━━━━━\u001b[0m \u001b[32m41.3/41.3 kB\u001b[0m \u001b[31m1.7 MB/s\u001b[0m eta \u001b[36m0:00:00\u001b[0m\n",
            "\u001b[?25h"
          ]
        }
      ]
    },
    {
      "cell_type": "code",
      "source": [
        "!pip install -q -U google-generativeai"
      ],
      "metadata": {
        "id": "fqKn6x5AJvGU"
      },
      "execution_count": 3,
      "outputs": []
    },
    {
      "cell_type": "code",
      "execution_count": 4,
      "metadata": {
        "colab": {
          "base_uri": "https://localhost:8080/"
        },
        "id": "2fKguMPIEv9I",
        "outputId": "a2c36c48-c219-4117-bacb-a1833cc1390d"
      },
      "outputs": [
        {
          "output_type": "stream",
          "name": "stdout",
          "text": [
            "\u001b[?25l   \u001b[90m━━━━━━━━━━━━━━━━━━━━━━━━━━━━━━━━━━━━━━━━\u001b[0m \u001b[32m0.0/126.8 kB\u001b[0m \u001b[31m?\u001b[0m eta \u001b[36m-:--:--\u001b[0m\r\u001b[2K   \u001b[90m━━━━━━━━━━━━━━━━━━━━━━━━━━━━━━━━━━━━━━━━\u001b[0m \u001b[32m126.8/126.8 kB\u001b[0m \u001b[31m3.7 MB/s\u001b[0m eta \u001b[36m0:00:00\u001b[0m\n",
            "\u001b[?25h"
          ]
        }
      ],
      "source": [
        "!pip install --quiet -U langgraph"
      ]
    },
    {
      "cell_type": "code",
      "source": [
        "!pip install python-dotenv"
      ],
      "metadata": {
        "colab": {
          "base_uri": "https://localhost:8080/"
        },
        "id": "YxGe4T23Ip1c",
        "outputId": "198bfd04-f810-4e74-d272-a6a6fd2e1bbe"
      },
      "execution_count": null,
      "outputs": [
        {
          "output_type": "stream",
          "name": "stdout",
          "text": [
            "Collecting python-dotenv\n",
            "  Downloading python_dotenv-1.0.1-py3-none-any.whl.metadata (23 kB)\n",
            "Downloading python_dotenv-1.0.1-py3-none-any.whl (19 kB)\n",
            "Installing collected packages: python-dotenv\n",
            "Successfully installed python-dotenv-1.0.1\n"
          ]
        }
      ]
    },
    {
      "cell_type": "markdown",
      "source": [
        "**Importing required libraries**"
      ],
      "metadata": {
        "id": "ChSRpJk6FUqM"
      }
    },
    {
      "cell_type": "code",
      "source": [
        "from typing import TypedDict, List\n",
        "from langgraph.graph import StateGraph, END\n",
        "from langchain.prompts import PromptTemplate\n",
        "import google.generativeai as genai\n",
        "from langchain_google_genai import ChatGoogleGenerativeAI\n",
        "from langchain.schema import HumanMessage\n",
        "from langchain_core.runnables.graph import MermaidDrawMethod\n",
        "from IPython.display import Image, display\n",
        "from google.colab import userdata\n",
        "import os"
      ],
      "metadata": {
        "id": "HE_qSDtlFm5O"
      },
      "execution_count": 6,
      "outputs": []
    },
    {
      "cell_type": "code",
      "source": [
        "os.environ['GOOGLE_API_KEY'] = userdata.get('GEMINI_API_KEY')\n",
        "genai.configure(api_key=os.environ['GOOGLE_API_KEY'])"
      ],
      "metadata": {
        "id": "xNyMfwabS1Se"
      },
      "execution_count": 7,
      "outputs": []
    },
    {
      "cell_type": "code",
      "source": [
        "class State(TypedDict):\n",
        "  text: str\n",
        "  classification: str\n",
        "  entities: List\n",
        "  summary: str\n",
        "\n",
        "\n",
        "llm = ChatGoogleGenerativeAI(\n",
        "    model=\"gemini-1.5-flash\",\n",
        "    api_key=os.environ['GOOGLE_API_KEY'],\n",
        "    temperature=0\n",
        "    )"
      ],
      "metadata": {
        "id": "16iRvMOXLWOF"
      },
      "execution_count": 8,
      "outputs": []
    },
    {
      "cell_type": "code",
      "source": [
        "def classification_node(state: State):\n",
        "  ''' Classify the text into one of the categories: News, Blog, Research, or Other '''\n",
        "  prompt = PromptTemplate(\n",
        "      input_variables=[\"text\"],\n",
        "      template=\"\"\"\n",
        "      Classify the following text into one of the following categories: News, Blog, Research, or Other.\\n\\nText:{text}\\n\\nCategory:\"\"\"\n",
        "  )\n",
        "  # Ensure prompt.format returns a string by casting to str if needed\n",
        "  message_content = prompt.format(text=state['text'])\n",
        "  # The original code used isinstance and str, but f-strings are better for formatting\n",
        "  if isinstance(message_content, tuple):\n",
        "      message_content = f\"\"\"\n",
        "      Classify the following text into one of the following categories: News, Blog, Research, or Other.\\n\\nText:{state['text']}\\n\\nCategory:\"\"\"\n",
        "\n",
        "  message = HumanMessage(content=message_content)\n",
        "  classification = llm.invoke([message]).content.strip()\n",
        "  return {'classification': classification}\n",
        "\n",
        "def entity_extraction_node(state: State):\n",
        "  ''' Extract entities from the text '''\n",
        "  prompt = PromptTemplate(\n",
        "  input_variables=[\"text\"],\n",
        "  template=\"\"\"\n",
        "  Extract entities from the following text.\\n\\nText:{text}\\n\\nEntities:\"\"\"\n",
        "  )\n",
        "  # Ensure prompt.format returns a string by casting to str if needed\n",
        "  message_content = prompt.format(text=state['text'])\n",
        "  # The original code used isinstance and str, but f-strings are better for formatting\n",
        "  if isinstance(message_content, tuple):\n",
        "      message_content = f\"\"\"\n",
        "      Extract entities from the following text.\\n\\nText:{state['text']}\\n\\nEntities:\"\"\"\n",
        "  message = HumanMessage(content=message_content)\n",
        "  entities = llm.invoke([message]).content.strip()\n",
        "  return {'entities': entities}\n",
        "\n",
        "def summary_node(state: State):\n",
        "  ''' Summarize the text '''\n",
        "  prompt = PromptTemplate(\n",
        "      input_variables=[\"text\"],\n",
        "      template=\"\"\"\n",
        "      Summarize the following text.\\n\\nText:{text}\\n\\nSummary:\"\"\"\n",
        "  )\n",
        "  # Ensure prompt.format returns a string by casting to str if needed\n",
        "  message_content = prompt.format(text=state['text'])\n",
        "    # The original code used isinstance and str, but f-strings are better for formatting\n",
        "  if isinstance(message_content, tuple):\n",
        "      message_content = f\"\"\"\n",
        "      Summarize the following text.\\n\\nText:{state['text']}\\n\\nSummary:\"\"\"\n",
        "  message = HumanMessage(content=message_content)\n",
        "  summary = llm.invoke([message]).content.strip()\n",
        "  return {'summary': summary}"
      ],
      "metadata": {
        "id": "_a9UEOVvWWVh"
      },
      "execution_count": 9,
      "outputs": []
    },
    {
      "cell_type": "code",
      "source": [
        "workflow = StateGraph(State)\n",
        "\n",
        "workflow.add_node('classification1', classification_node)\n",
        "workflow.add_node('entities1', entity_extraction_node)\n",
        "workflow.add_node('summary1', summary_node)\n",
        "\n",
        "workflow.set_entry_point('classification1')\n",
        "workflow.add_edge('classification1', 'entities1')\n",
        "workflow.add_edge('entities1', 'summary1')\n",
        "workflow.add_edge('summary1', END)\n",
        "\n",
        "app = workflow.compile()"
      ],
      "metadata": {
        "id": "LKMLdnxqK89P"
      },
      "execution_count": 10,
      "outputs": []
    },
    {
      "cell_type": "code",
      "source": [
        "graph = display(\n",
        "    Image(\n",
        "        app.get_graph().draw_mermaid_png(\n",
        "            draw_method=MermaidDrawMethod.API\n",
        "            )))"
      ],
      "metadata": {
        "colab": {
          "base_uri": "https://localhost:8080/",
          "height": 449
        },
        "id": "4iIPeGb3MGK7",
        "outputId": "b4764fbc-48f0-49f0-afda-5d323902d456"
      },
      "execution_count": 11,
      "outputs": [
        {
          "output_type": "display_data",
          "data": {
            "image/png": "[encoded data removed]",
            "text/plain": [
              "<IPython.core.display.Image object>"
            ]
          },
          "metadata": {}
        }
      ]
    },
    {
      "cell_type": "code",
      "source": [
        "sample_text = \"\"\"\n",
        "OpenAI has announced the GPT-4 model, which is a large multimodal model that exhibits human-level performance on various professional benchmarks. It is developed to improve the alignment and safety of AI systems.\n",
        "additionally, the model is designed to be more efficient and scalable than its predecessor, GPT-3. The GPT-4 model is expected to be released in the coming months and will be available to the public for research and development purposes.\n",
        "\"\"\"\n",
        "\n",
        "state_input = {'text': sample_text}\n",
        "\n",
        "result = app.invoke(state_input)\n",
        "print(\"Classification: \", result['classification'])\n",
        "print(\"Entities: \", result['entities'])\n",
        "print(\"Summary: \", result['summary'])\n",
        "\n"
      ],
      "metadata": {
        "colab": {
          "base_uri": "https://localhost:8080/"
        },
        "id": "isr-q5X2QQw4",
        "outputId": "3e6a6d72-09bb-4908-f084-fd08de3b1e9c"
      },
      "execution_count": 12,
      "outputs": [
        {
          "output_type": "stream",
          "name": "stdout",
          "text": [
            "Classification:  News\n",
            "Entities:  Here's a breakdown of the entities in the text, categorized for clarity:\n",
            "\n",
            "**Organization:**\n",
            "\n",
            "* OpenAI\n",
            "\n",
            "**Product/Model:**\n",
            "\n",
            "* GPT-4\n",
            "* GPT-3\n",
            "\n",
            "**Technology/Concept:**\n",
            "\n",
            "* large multimodal model\n",
            "* AI systems\n",
            "\n",
            "\n",
            "**Time:**\n",
            "\n",
            "* coming months\n",
            "\n",
            "\n",
            "There are no clear Person entities mentioned.  The text focuses on the product and its development.\n",
            "Summary:  OpenAI's new GPT-4 model is a large, multimodal AI system showing human-level performance on many professional tests.  Designed for improved safety and efficiency compared to GPT-3, it will be publicly released for research and development in the coming months.\n"
          ]
        }
      ]
    }
  ]
}